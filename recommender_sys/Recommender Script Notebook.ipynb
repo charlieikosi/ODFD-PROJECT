{
 "cells": [
  {
   "cell_type": "markdown",
   "id": "fd3769a1",
   "metadata": {},
   "source": [
    "# Collaborative Filtering Recommendation Script\n",
    "\n",
    "### This notebook documents the training of the restaurant recommendation system and model predictions\n",
    "\n",
    "#### *The first block of code*"
   ]
  },
  {
   "cell_type": "code",
   "execution_count": null,
   "id": "708d055d",
   "metadata": {
    "scrolled": true
   },
   "outputs": [],
   "source": [
    "import pandas as pd\n",
    "from surprise import Reader, Dataset, SVD\n",
    "from surprise.model_selection import train_test_split\n",
    "\n",
    "# Load the dataset\n",
    "data = pd.read_csv('raw_ids.csv')\n",
    "data_names = pd.read_csv('raw.csv')\n",
    "\n",
    "# Create dictionary of restaurant\n",
    "rest_dict = data_names[['restaurant_names','restaurant_id']]\n",
    "rest_dict = rest_dict.drop_duplicates()\n",
    "rest_dict = rest_dict.set_index('restaurant_id')['restaurant_names'].to_dict()\n",
    "\n",
    "\n",
    "# Define the reader object\n",
    "reader = Reader(rating_scale=(1, 5))\n",
    "\n",
    "# Load the dataset into Surprise's format\n",
    "dataset = Dataset.load_from_df(data[['users_id', 'restaurant_id', 'ratings']], reader)\n",
    "\n",
    "# Split the dataset into train and test sets\n",
    "seed = 7\n",
    "train_set, test_set = train_test_split(dataset, test_size=0.2, random_state=seed)\n",
    "\n",
    "# Build the collaborative filtering model (SVD algorithm)\n",
    "model = SVD()\n",
    "\n",
    "# Train the model on the training set\n",
    "model.fit(train_set)\n",
    "\n",
    "# Select a user for whom you want to generate recommendations\n",
    "user_id = 6\n",
    "# Get the list of all restaurants in the dataset\n",
    "all_restaurants = data['restaurant_id'].unique()\n",
    "\n",
    "# Filter the restaurants that the user has already rated\n",
    "rated_restaurants = data[data['users_id'] == user_id]['restaurant_id'].values\n",
    "unrated_restaurants = list(set(all_restaurants) - set(rated_restaurants))\n",
    "\n",
    "# Create a list to store the predicted ratings for unrated restaurants\n",
    "predicted_ratings = []\n",
    "\n",
    "# Generate ratings predictions for unrated restaurants\n",
    "for restaurant in unrated_restaurants:\n",
    "    predicted_rating = model.predict(user_id, restaurant).est\n",
    "    predicted_ratings.append((restaurant, predicted_rating))\n",
    "\n",
    "# Sort the predicted ratings in descending order\n",
    "predicted_ratings.sort(key=lambda x: x[1], reverse=True)\n",
    "\n",
    "# Print the top recommended restaurants\n",
    "top_k = 5  # Number of recommendations to display\n",
    "print(f'Top {top_k} recommended restaurants for user {user_id}:')\n",
    "for i, (restaurant, predicted_rating) in enumerate(predicted_ratings[:top_k]):\n",
    "    print(f'{i+1}. {rest_dict[restaurant]} (predicted rating: {predicted_rating:.2f})')\n"
   ]
  },
  {
   "cell_type": "markdown",
   "id": "20d1c392",
   "metadata": {},
   "source": [
    "# Saving and loading the model"
   ]
  },
  {
   "cell_type": "code",
   "execution_count": null,
   "id": "ecaa4ed1",
   "metadata": {},
   "outputs": [],
   "source": [
    "# save the model\n",
    "import pickle\n",
    "filename = \"recommender_model.sav\"\n",
    "pickle.dump(model, open(filename, 'wb'))"
   ]
  },
  {
   "cell_type": "code",
   "execution_count": 1,
   "id": "b3fcfb30",
   "metadata": {},
   "outputs": [],
   "source": [
    "# Load the model from file\n",
    "with open('recommender_model.sav', 'rb') as file:\n",
    "    model = pickle.load(file)"
   ]
  },
  {
   "cell_type": "markdown",
   "id": "890d7a5f",
   "metadata": {},
   "source": [
    "# Making restaurant recommendations"
   ]
  },
  {
   "cell_type": "code",
   "execution_count": 2,
   "id": "0dd184a6",
   "metadata": {},
   "outputs": [
    {
     "name": "stdout",
     "output_type": "stream",
     "text": [
      "Top 5 recommended restaurants for user 599:\n",
      "1. THE DIRTY KITCHEN (predicted rating: 4.42)\n",
      "2. Bacchus Restaurant (predicted rating: 4.41)\n",
      "3. Buffalo Burger - Town Store (predicted rating: 4.38)\n",
      "4. Mojo Social (predicted rating: 4.38)\n",
      "5. Fu Gui (predicted rating: 4.37)\n"
     ]
    }
   ],
   "source": [
    "import pandas as pd\n",
    "\n",
    "# Load the dataset\n",
    "data = pd.read_csv('raw_ids.csv')\n",
    "data_names = pd.read_csv('raw.csv')\n",
    "\n",
    "# Create dictionary of restaurant\n",
    "rest_dict = data_names[['restaurant_names','restaurant_id']]\n",
    "rest_dict = rest_dict.drop_duplicates()\n",
    "rest_dict = rest_dict.set_index('restaurant_id')['restaurant_names'].to_dict()\n",
    "\n",
    "# Select a user for whom you want to generate recommendations\n",
    "user_id = 599\n",
    "# Get the list of all restaurants in the dataset\n",
    "all_restaurants = data['restaurant_id'].unique()\n",
    "\n",
    "# Filter the restaurants that the user has already rated\n",
    "rated_restaurants = data[data['users_id'] == user_id]['restaurant_id'].values\n",
    "unrated_restaurants = list(set(all_restaurants) - set(rated_restaurants))\n",
    "\n",
    "# Create a list to store the predicted ratings for unrated restaurants\n",
    "predicted_ratings = []\n",
    "\n",
    "# Generate ratings predictions for unrated restaurants\n",
    "for restaurant in unrated_restaurants:\n",
    "    predicted_rating = model.predict(user_id, restaurant).est\n",
    "    predicted_ratings.append((restaurant, predicted_rating))\n",
    "\n",
    "# Sort the predicted ratings in descending order\n",
    "predicted_ratings.sort(key=lambda x: x[1], reverse=True)\n",
    "\n",
    "# Print the top recommended restaurants\n",
    "top_k = 5  # Number of recommendations to display\n",
    "print(f'Top {top_k} recommended restaurants for user {user_id}:')\n",
    "for i, (restaurant, predicted_rating) in enumerate(predicted_ratings[:top_k]):\n",
    "    print(f'{i+1}. {rest_dict[restaurant]} (predicted rating: {predicted_rating:.2f})')\n"
   ]
  }
 ],
 "metadata": {
  "kernelspec": {
   "display_name": "Python 3",
   "language": "python",
   "name": "python3"
  },
  "language_info": {
   "codemirror_mode": {
    "name": "ipython",
    "version": 3
   },
   "file_extension": ".py",
   "mimetype": "text/x-python",
   "name": "python",
   "nbconvert_exporter": "python",
   "pygments_lexer": "ipython3",
   "version": "3.8.8"
  }
 },
 "nbformat": 4,
 "nbformat_minor": 5
}
